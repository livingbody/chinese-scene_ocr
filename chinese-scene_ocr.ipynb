{
 "cells": [
  {
   "cell_type": "markdown",
   "metadata": {
    "collapsed": false
   },
   "source": [
    "## 一、常规赛：中文场景文字识别\n",
    "比赛地址：[https://aistudio.baidu.com/aistudio/competition/detail/20/0/datasets](https://aistudio.baidu.com/aistudio/competition/detail/20/0/datasets)\n",
    "\n",
    "### 1.比赛简介\n",
    "中文场景文字识别技术在人们的日常生活中受到广泛关注，具有丰富的应用场景，如：拍照翻译、图像检索、场景理解等。然而，中文场景中的文字面临着包括光照变化、低分辨率、字体以及排布多样性、中文字符种类多等复杂情况。如何解决上述问题成为一项极具挑战性的任务。\n",
    "\n",
    "中文场景文字识别常规赛全新升级，提供轻量级中文场景文字识别数据，要求选手使用飞桨框架，对图像区域中的文字行进行预测，并返回文字行的内容。\n",
    "\n",
    "### 2.数据集描述\n",
    "本次赛题数据集共包括6万张图片，其中5万张图片作为训练集，1万张作为测试集。数据集采自中国街景，并由街景图片中的文字行区域（例如店铺标牌、地标等等）截取出来而形成。\n",
    "\n",
    "**具体数据介绍**\n",
    "\n",
    "数据集中所有图像都经过一些预处理，如下图所示：\n",
    "\n",
    "![https://ai.bdstatic.com/file/69547F36851C4F55B7359A1C2F57891A](https://ai.bdstatic.com/file/69547F36851C4F55B7359A1C2F57891A)\n",
    "\n",
    "(a) 标注：久斯台球会所\n",
    "\n",
    "![https://ai.bdstatic.com/file/70297BA845D6433F8E21E92E3DDEB024](https://ai.bdstatic.com/file/70297BA845D6433F8E21E92E3DDEB024)\n",
    "\n",
    "(b) 标注：上海创科泵业制造有限公司\n",
    "\n",
    "**标注文件**\n",
    "\n",
    "平台提供的标注文件为.csv文件格式，文件中的四列分别为图片的宽、高、文件名和文字标注。样例如下：\n",
    "\n",
    "\n",
    "\n",
    "| name | value | \n",
    "| -------- | -------- |\n",
    "| 0.jpg     | 文本0     | \n",
    "| -------- | -------- | \n",
    "| 1.jpg     | 文本0     | \n",
    "\n",
    "  "
   ]
  },
  {
   "cell_type": "markdown",
   "metadata": {
    "collapsed": false
   },
   "source": [
    "## 二、环境设置\n",
    "PaddleOCR [https://github.com/paddlepaddle/PaddleOCR](https://github.com/paddlepaddle/PaddleOCR) 是一款全宇宙最强的用的OCR工具库，开箱即用，速度杠杠的。\n"
   ]
  },
  {
   "cell_type": "code",
   "execution_count": null,
   "metadata": {
    "collapsed": false
   },
   "outputs": [],
   "source": [
    "# 从gitee上下载PaddleOCR代码，也可以从GitHub链接下载\n",
    "!git clone https://gitee.com/paddlepaddle/PaddleOCR.git --depth=1\n",
    "# 升级pip\n",
    "!pip install -U pip \n",
    "# 安装依赖\n",
    "%cd ~/PaddleOCR\n",
    "%pip install -r requirements.txt"
   ]
  },
  {
   "cell_type": "code",
   "execution_count": null,
   "metadata": {
    "collapsed": false
   },
   "outputs": [
    {
     "name": "stdout",
     "output_type": "stream",
     "text": [
      "/home/aistudio/PaddleOCR\n",
      ".\r\n",
      "├── benchmark\r\n",
      "├── configs\r\n",
      "├── deploy\r\n",
      "├── doc\r\n",
      "├── __init__.py\r\n",
      "├── LICENSE\r\n",
      "├── MANIFEST.in\r\n",
      "├── paddleocr.py\r\n",
      "├── ppocr\r\n",
      "├── PPOCRLabel\r\n",
      "├── ppstructure\r\n",
      "├── README_ch.md\r\n",
      "├── README.md\r\n",
      "├── requirements.txt\r\n",
      "├── setup.py\r\n",
      "├── StyleText\r\n",
      "├── test_tipc\r\n",
      "├── tools\r\n",
      "└── train.sh\r\n",
      "\r\n",
      "10 directories, 9 files\r\n"
     ]
    }
   ],
   "source": [
    "%cd ~/PaddleOCR/\r\n",
    "!tree   -L 1"
   ]
  },
  {
   "cell_type": "markdown",
   "metadata": {
    "collapsed": false
   },
   "source": [
    "## 三、数据准备\n",
    "据悉train数据集共10万张，解压，并划分出10000张作为测试集。"
   ]
  },
  {
   "cell_type": "markdown",
   "metadata": {
    "collapsed": false
   },
   "source": [
    "### 1.数据下载解压"
   ]
  },
  {
   "cell_type": "code",
   "execution_count": null,
   "metadata": {
    "collapsed": false
   },
   "outputs": [
    {
     "name": "stdout",
     "output_type": "stream",
     "text": [
      "/home/aistudio\n"
     ]
    }
   ],
   "source": [
    "#  解压缩数据集\n",
    "%cd ~\n",
    "!unzip -qa data/data62842/train_images.zip -d data/data62842/\n",
    "!unzip -qa data/data62843/test_images.zip -d data/data62843/"
   ]
  },
  {
   "cell_type": "code",
   "execution_count": null,
   "metadata": {
    "collapsed": false
   },
   "outputs": [
    {
     "name": "stdout",
     "output_type": "stream",
     "text": [
      "50000\r\n"
     ]
    }
   ],
   "source": [
    "# 使用命令查看训练数据文件夹下数据量是否是5万张\r\n",
    "!cd ~/data/data62842/train_images  &&  ls -l | grep \"^-\" | wc -l"
   ]
  },
  {
   "cell_type": "code",
   "execution_count": null,
   "metadata": {
    "collapsed": false
   },
   "outputs": [
    {
     "name": "stdout",
     "output_type": "stream",
     "text": [
      "10000\r\n"
     ]
    }
   ],
   "source": [
    "# 使用命令查看test数据文件夹下数据量是否是1万张\r\n",
    "!cd ~/data/data62843/test_images  &&  ls -l | grep \"^-\" | wc -l"
   ]
  },
  {
   "cell_type": "markdown",
   "metadata": {
    "collapsed": false
   },
   "source": [
    "### 2. 数据集划分"
   ]
  },
  {
   "cell_type": "code",
   "execution_count": null,
   "metadata": {
    "collapsed": false
   },
   "outputs": [
    {
     "name": "stdout",
     "output_type": "stream",
     "text": [
      "/home/aistudio\n"
     ]
    },
    {
     "data": {
      "text/html": [
       "<div>\n",
       "<style scoped>\n",
       "    .dataframe tbody tr th:only-of-type {\n",
       "        vertical-align: middle;\n",
       "    }\n",
       "\n",
       "    .dataframe tbody tr th {\n",
       "        vertical-align: top;\n",
       "    }\n",
       "\n",
       "    .dataframe thead th {\n",
       "        text-align: right;\n",
       "    }\n",
       "</style>\n",
       "<table border=\"1\" class=\"dataframe\">\n",
       "  <thead>\n",
       "    <tr style=\"text-align: right;\">\n",
       "      <th></th>\n",
       "      <th>name</th>\n",
       "      <th>value</th>\n",
       "    </tr>\n",
       "  </thead>\n",
       "  <tbody>\n",
       "    <tr>\n",
       "      <th>0</th>\n",
       "      <td>0.jpg</td>\n",
       "      <td>拉拉</td>\n",
       "    </tr>\n",
       "    <tr>\n",
       "      <th>1</th>\n",
       "      <td>1.jpg</td>\n",
       "      <td>６号</td>\n",
       "    </tr>\n",
       "    <tr>\n",
       "      <th>2</th>\n",
       "      <td>2.jpg</td>\n",
       "      <td>胖胖</td>\n",
       "    </tr>\n",
       "    <tr>\n",
       "      <th>3</th>\n",
       "      <td>3.jpg</td>\n",
       "      <td>前门大栅栏总店</td>\n",
       "    </tr>\n",
       "    <tr>\n",
       "      <th>4</th>\n",
       "      <td>4.jpg</td>\n",
       "      <td>你来就是旺季</td>\n",
       "    </tr>\n",
       "  </tbody>\n",
       "</table>\n",
       "</div>"
      ],
      "text/plain": [
       "    name    value\n",
       "0  0.jpg       拉拉\n",
       "1  1.jpg       ６号\n",
       "2  2.jpg       胖胖\n",
       "3  3.jpg  前门大栅栏总店\n",
       "4  4.jpg   你来就是旺季"
      ]
     },
     "execution_count": null,
     "metadata": {},
     "output_type": "execute_result"
    }
   ],
   "source": [
    "# 读取数据列表文件\r\n",
    "import pandas as pd\r\n",
    "%cd ~\r\n",
    "data_label=pd.read_csv('data/data62842/train_label.csv', encoding='gb2312')\r\n",
    "data_label.head()"
   ]
  },
  {
   "cell_type": "code",
   "execution_count": null,
   "metadata": {
    "collapsed": false
   },
   "outputs": [
    {
     "name": "stdout",
     "output_type": "stream",
     "text": [
      "/home/aistudio/data/data62842\n",
      "(50000, 2)\n"
     ]
    }
   ],
   "source": [
    "# 对数据列表文件进行划分\r\n",
    "%cd ~/data/data62842/\r\n",
    "print(data_label.shape)\r\n",
    "train=data_label[:45000]\r\n",
    "val=data_label[45000:]\r\n",
    "train.to_csv('train.txt',sep='\\t',header=None,index=None)\r\n",
    "val.to_csv('val.txt',sep='\\t',header=None,index=None)"
   ]
  },
  {
   "cell_type": "code",
   "execution_count": null,
   "metadata": {
    "collapsed": false
   },
   "outputs": [
    {
     "name": "stdout",
     "output_type": "stream",
     "text": [
      "(45000, 2)\n",
      "(5000, 2)\n"
     ]
    }
   ],
   "source": [
    "# 查看数量\r\n",
    "print(train.shape)\r\n",
    "print(val.shape)"
   ]
  },
  {
   "cell_type": "code",
   "execution_count": null,
   "metadata": {
    "collapsed": false
   },
   "outputs": [
    {
     "name": "stdout",
     "output_type": "stream",
     "text": [
      "45000.jpg\t责任单位：北京市环清环卫设施维修\r\n",
      "45001.jpg\t眼镜\r\n",
      "45002.jpg\t光临\r\n",
      "45003.jpg\t主治\r\n",
      "45004.jpg\t菜饭骨头汤\r\n",
      "45005.jpg\t理\r\n",
      "45006.jpg\t要多者提前预定\r\n",
      "45007.jpg\t干洗湿洗\r\n",
      "45008.jpg\t画布咖啡\r\n",
      "45009.jpg\t电焊、气割、专业自卸车\r\n"
     ]
    }
   ],
   "source": [
    "!head val.txt"
   ]
  },
  {
   "cell_type": "code",
   "execution_count": null,
   "metadata": {
    "collapsed": false
   },
   "outputs": [
    {
     "name": "stdout",
     "output_type": "stream",
     "text": [
      "0.jpg\t拉拉\r\n",
      "1.jpg\t６号\r\n",
      "2.jpg\t胖胖\r\n",
      "3.jpg\t前门大栅栏总店\r\n",
      "4.jpg\t你来就是旺季\r\n",
      "5.jpg\t毛衣厂家直销\r\n",
      "6.jpg\t13761916218\r\n",
      "7.jpg\t福鼎白茶\r\n",
      "8.jpg\t妍心美容\r\n",
      "9.jpg\t童车童床\r\n"
     ]
    }
   ],
   "source": [
    "!head train.txt"
   ]
  },
  {
   "cell_type": "markdown",
   "metadata": {
    "collapsed": false
   },
   "source": [
    "## 四、配置训练参数\n",
    "以PaddleOCR/configs/rec/ch_ppocr_v2.0/rec_chinese_lite_train_v2.0.yml为基准进行配置\n",
    "### 1.配置模型网络\n",
    "使用CRNN算法，backbone是MobileNetV3，损失函数是CTCLoss\n",
    "```\n",
    "Architecture:\n",
    "  model_type: rec\n",
    "  algorithm: CRNN\n",
    "  Transform:\n",
    "  Backbone:\n",
    "    name: MobileNetV3\n",
    "    scale: 0.5\n",
    "    model_name: small\n",
    "    small_stride: [1, 2, 2, 2]\n",
    "  Neck:\n",
    "    name: SequenceEncoder\n",
    "    encoder_type: rnn\n",
    "    hidden_size: 48\n",
    "  Head:\n",
    "    name: CTCHead\n",
    "    fc_decay: 0.00001\n",
    "```\n",
    "\n",
    "\n",
    "\n",
    "### 2.配置数据\n",
    "对Train.data_dir, Train.label_file_list, Eval.data_dir, Eval.label_file_list进行配置\n",
    "```\n",
    "Train:\n",
    "  dataset:\n",
    "    name: SimpleDataSet\n",
    "    data_dir: /home/aistudio/data/data62842/train_images\n",
    "    label_file_list: [\"/home/aistudio/data/data62842/train.txt\"]\n",
    "...\n",
    "...\n",
    "\n",
    "Eval:\n",
    "  dataset:\n",
    "    name: SimpleDataSet\n",
    "    data_dir: /home/aistudio/data/data62842/train_images\n",
    "    label_file_list: [\"/home/aistudio/data/data62842/val.txt\"]\n",
    "```\n",
    "\n",
    "### 3. 显卡、评估设置\n",
    "use_gpu、cal_metric_during_train分别是GPU、评估开关\n",
    "```\n",
    "Global:\n",
    "  use_gpu: false             # true 使用GPU\n",
    "  .....\n",
    "  cal_metric_during_train: False   # true 打开评估\n",
    "```\n",
    "### 4. 多线程任务\n",
    "```\n",
    "Train.loader.num_workers:4\n",
    "Eval.loader.num_workers: 4\n",
    "```\n",
    "### 5.完整配置\n",
    "```\n",
    "Global:\n",
    "  use_gpu: true\n",
    "  epoch_num: 500\n",
    "  log_smooth_window: 20\n",
    "  print_batch_step: 10\n",
    "  save_model_dir: ./output/rec_chinese_lite_v2.0\n",
    "  save_epoch_step: 3\n",
    "  # evaluation is run every 5000 iterations after the 4000th iteration\n",
    "  eval_batch_step: [0, 2000]\n",
    "  cal_metric_during_train: True\n",
    "  pretrained_model: ./ch_ppocr_mobile_v2.0_rec_pre/best_accuracy\n",
    "  checkpoints: \n",
    "  save_inference_dir:\n",
    "  use_visualdl: True\n",
    "  infer_img: doc/imgs_words/ch/word_1.jpg\n",
    "  # for data or label process\n",
    "  character_dict_path: ppocr/utils/ppocr_keys_v1.txt\n",
    "  max_text_length: 25\n",
    "  infer_mode: False\n",
    "  use_space_char: True\n",
    "  save_res_path: ./output/rec/predicts_chinese_lite_v2.0.txt\n",
    "\n",
    "\n",
    "Optimizer:\n",
    "  name: Adam\n",
    "  beta1: 0.9\n",
    "  beta2: 0.999\n",
    "  lr:\n",
    "    name: Cosine\n",
    "    learning_rate: 0.001\n",
    "    warmup_epoch: 5\n",
    "  regularizer:\n",
    "    name: 'L2'\n",
    "    factor: 0.00001\n",
    "\n",
    "Architecture:\n",
    "  model_type: rec\n",
    "  algorithm: CRNN\n",
    "  Transform:\n",
    "  Backbone:\n",
    "    name: MobileNetV3\n",
    "    scale: 0.5\n",
    "    model_name: small\n",
    "    small_stride: [1, 2, 2, 2]\n",
    "  Neck:\n",
    "    name: SequenceEncoder\n",
    "    encoder_type: rnn\n",
    "    hidden_size: 48\n",
    "  Head:\n",
    "    name: CTCHead\n",
    "    fc_decay: 0.00001\n",
    "\n",
    "Loss:\n",
    "  name: CTCLoss\n",
    "\n",
    "PostProcess:\n",
    "  name: CTCLabelDecode\n",
    "\n",
    "Metric:\n",
    "  name: RecMetric\n",
    "  main_indicator: acc\n",
    "\n",
    "Train:\n",
    "  dataset:\n",
    "    name: SimpleDataSet\n",
    "    data_dir: /home/aistudio/data/data62842/train_images\n",
    "    label_file_list: [\"/home/aistudio/data/data62842/train.txt\"]\n",
    "    transforms:\n",
    "      - DecodeImage: # load image\n",
    "          img_mode: BGR\n",
    "          channel_first: False\n",
    "      - RecAug: \n",
    "      - CTCLabelEncode: # Class handling label\n",
    "      - RecResizeImg:\n",
    "          image_shape: [3, 32, 320]\n",
    "      - KeepKeys:\n",
    "          keep_keys: ['image', 'label', 'length'] # dataloader will return list in this order\n",
    "  loader:\n",
    "    shuffle: True\n",
    "    batch_size_per_card: 256\n",
    "    drop_last: True\n",
    "    num_workers: 8\n",
    "\n",
    "Eval:\n",
    "  dataset:\n",
    "    name: SimpleDataSet\n",
    "    data_dir: /home/aistudio/data/data62842/train_images\n",
    "    label_file_list: [\"/home/aistudio/data/data62842/val.txt\"]\n",
    "    transforms:\n",
    "      - DecodeImage: # load image\n",
    "          img_mode: BGR\n",
    "          channel_first: False\n",
    "      - CTCLabelEncode: # Class handling label\n",
    "      - RecResizeImg:\n",
    "          image_shape: [3, 32, 320]\n",
    "      - KeepKeys:\n",
    "          keep_keys: ['image', 'label', 'length'] # dataloader will return list in this order\n",
    "  loader:\n",
    "    shuffle: False\n",
    "    drop_last: False\n",
    "    batch_size_per_card: 256\n",
    "    num_workers: 8\n",
    "\n",
    "```"
   ]
  },
  {
   "cell_type": "code",
   "execution_count": 1,
   "metadata": {
    "collapsed": false
   },
   "outputs": [
    {
     "name": "stdout",
     "output_type": "stream",
     "text": [
      "cp: cannot stat '/home/aistudio/PaddleOCR/configs/rec/ch_ppocr_v2.0/rec_chinese_lite_train_v2.0.yml': No such file or directory\r\n"
     ]
    }
   ],
   "source": [
    "# 覆盖配置\r\n",
    "!cp -f  ~/rec_chinese_lite_train_v2.0.yml ~/PaddleOCR/configs/rec/ch_ppocr_v2.0/rec_chinese_lite_train_v2.0.yml"
   ]
  },
  {
   "cell_type": "markdown",
   "metadata": {
    "collapsed": false
   },
   "source": [
    "### 6.使用预训练模型\n",
    "据悉使用预训练模型，训练速度更快！！！\n",
    "\n",
    "\n",
    "\n",
    "PaddleOCR提供的可下载模型包括`推理模型`、`训练模型`、`预训练模型`、`slim模型`，模型区别说明如下：\n",
    "\n",
    "|模型类型|模型格式|简介|\n",
    "|--- | --- | --- |\n",
    "|推理模型|inference.pdmodel、inference.pdiparams|用于预测引擎推理，[详情](./inference.md)|\n",
    "|训练模型、预训练模型|\\*.pdparams、\\*.pdopt、\\*.states |训练过程中保存的模型的参数、优化器状态和训练中间信息，多用于模型指标评估和恢复训练|\n",
    "|slim模型|\\*.nb|经过飞桨模型压缩工具PaddleSlim压缩后的模型，适用于移动端/IoT端等端侧部署场景（需使用飞桨Paddle Lite部署）。|\n",
    "\n",
    "\n",
    "各个模型的关系如下面的示意图所示。\n",
    "\n",
    "![](../imgs/model_prod_flow_ch.png)\n",
    "\n",
    "\n",
    "<a name=\"文本检测模型\"></a>\n",
    "####  文本检测模型\n",
    "\n",
    "|模型名称|模型简介|配置文件|推理模型大小|下载地址|\n",
    "| --- | --- | --- | --- | --- |\n",
    "|ch_ppocr_mobile_slim_v2.0_det|slim裁剪版超轻量模型，支持中英文、多语种文本检测|[ch_det_mv3_db_v2.0.yml](../../configs/det/ch_ppocr_v2.0/ch_det_mv3_db_v2.0.yml)| 2.6M |[推理模型](https://paddleocr.bj.bcebos.com/dygraph_v2.0/slim/ch_ppocr_mobile_v2.0_det_prune_infer.tar)|\n",
    "|ch_ppocr_mobile_v2.0_det|原始超轻量模型，支持中英文、多语种文本检测|[ch_det_mv3_db_v2.0.yml](../../configs/det/ch_ppocr_v2.0/ch_det_mv3_db_v2.0.yml)|3M|[推理模型](https://paddleocr.bj.bcebos.com/dygraph_v2.0/ch/ch_ppocr_mobile_v2.0_det_infer.tar) / [训练模型](https://paddleocr.bj.bcebos.com/dygraph_v2.0/ch/ch_ppocr_mobile_v2.0_det_train.tar)|\n",
    "|ch_ppocr_server_v2.0_det|通用模型，支持中英文、多语种文本检测，比超轻量模型更大，但效果更好|[ch_det_res18_db_v2.0.yml](../../configs/det/ch_ppocr_v2.0/ch_det_res18_db_v2.0.yml)|47M|[推理模型](https://paddleocr.bj.bcebos.com/dygraph_v2.0/ch/ch_ppocr_server_v2.0_det_infer.tar) / [训练模型](https://paddleocr.bj.bcebos.com/dygraph_v2.0/ch/ch_ppocr_server_v2.0_det_train.tar)|\n",
    "\n",
    "\n",
    "<a name=\"文本识别模型\"></a>\n",
    "####   文本识别模型\n",
    "\n",
    "<a name=\"中文识别模型\"></a>\n",
    "#####  中文识别模型\n",
    "\n",
    "|模型名称|模型简介|配置文件|推理模型大小|下载地址|\n",
    "| --- | --- | --- | --- | --- |\n",
    "|ch_ppocr_mobile_slim_v2.0_rec|slim裁剪量化版超轻量模型，支持中英文、数字识别|[rec_chinese_lite_train_v2.0.yml](../../configs/rec/ch_ppocr_v2.0/rec_chinese_lite_train_v2.0.yml)| 6M |[推理模型](https://paddleocr.bj.bcebos.com/dygraph_v2.0/ch/ch_ppocr_mobile_v2.0_rec_slim_infer.tar) / [训练模型](https://paddleocr.bj.bcebos.com/dygraph_v2.0/ch/ch_ppocr_mobile_v2.0_rec_slim_train.tar) |\n",
    "|ch_ppocr_mobile_v2.0_rec|原始超轻量模型，支持中英文、数字识别|[rec_chinese_lite_train_v2.0.yml](../../configs/rec/ch_ppocr_v2.0/rec_chinese_lite_train_v2.0.yml)|5.2M|[推理模型](https://paddleocr.bj.bcebos.com/dygraph_v2.0/ch/ch_ppocr_mobile_v2.0_rec_infer.tar) / [训练模型](https://paddleocr.bj.bcebos.com/dygraph_v2.0/ch/ch_ppocr_mobile_v2.0_rec_train.tar) / [预训练模型](https://paddleocr.bj.bcebos.com/dygraph_v2.0/ch/ch_ppocr_mobile_v2.0_rec_pre.tar) |\n",
    "|ch_ppocr_server_v2.0_rec|通用模型，支持中英文、数字识别|[rec_chinese_common_train_v2.0.yml](../../configs/rec/ch_ppocr_v2.0/rec_chinese_common_train_v2.0.yml)|94.8M|[推理模型](https://paddleocr.bj.bcebos.com/dygraph_v2.0/ch/ch_ppocr_server_v2.0_rec_infer.tar) / [训练模型](https://paddleocr.bj.bcebos.com/dygraph_v2.0/ch/ch_ppocr_server_v2.0_rec_train.tar) / [预训练模型](https://paddleocr.bj.bcebos.com/dygraph_v2.0/ch/ch_ppocr_server_v2.0_rec_pre.tar) |\n",
    "\n",
    "**说明：** `训练模型`是基于预训练模型在真实数据与竖排合成文本数据上finetune得到的模型，在真实应用场景中有着更好的表现，`预训练模型`则是直接基于全量真实数据与合成数据训练得到，更适合用于在自己的数据集上finetune。\n",
    "\n",
    "<a name=\"英文识别模型\"></a>\n",
    "#####  英文识别模型\n",
    "\n",
    "|模型名称|模型简介|配置文件|推理模型大小|下载地址|\n",
    "| --- | --- | --- | --- | --- |\n",
    "|en_number_mobile_slim_v2.0_rec|slim裁剪量化版超轻量模型，支持英文、数字识别|[rec_en_number_lite_train.yml](../../configs/rec/multi_language/rec_en_number_lite_train.yml)| 2.7M | [推理模型](https://paddleocr.bj.bcebos.com/dygraph_v2.0/en/en_number_mobile_v2.0_rec_slim_infer.tar) / [训练模型](https://paddleocr.bj.bcebos.com/dygraph_v2.0/en/en_number_mobile_v2.0_rec_slim_train.tar) |\n",
    "|en_number_mobile_v2.0_rec|原始超轻量模型，支持英文、数字识别|[rec_en_number_lite_train.yml](../../configs/rec/multi_language/rec_en_number_lite_train.yml)|2.6M|[推理模型](https://paddleocr.bj.bcebos.com/dygraph_v2.0/multilingual/en_number_mobile_v2.0_rec_infer.tar) / [训练模型](https://paddleocr.bj.bcebos.com/dygraph_v2.0/multilingual/en_number_mobile_v2.0_rec_train.tar) |\n",
    "\n",
    "<a name=\"多语言识别模型\"></a>"
   ]
  },
  {
   "cell_type": "code",
   "execution_count": null,
   "metadata": {
    "collapsed": false
   },
   "outputs": [
    {
     "name": "stdout",
     "output_type": "stream",
     "text": [
      "/home/aistudio/PaddleOCR\n",
      "--2021-12-31 12:58:03--  https://paddleocr.bj.bcebos.com/dygraph_v2.0/ch/ch_ppocr_server_v2.0_rec_pre.tar\n",
      "Resolving paddleocr.bj.bcebos.com (paddleocr.bj.bcebos.com)... 182.61.200.195, 182.61.200.229, 2409:8c04:1001:1002:0:ff:b001:368a\n",
      "Connecting to paddleocr.bj.bcebos.com (paddleocr.bj.bcebos.com)|182.61.200.195|:443... connected.\n",
      "HTTP request sent, awaiting response... 200 OK\n",
      "Length: 490184704 (467M) [application/x-tar]\n",
      "Saving to: ‘ch_ppocr_server_v2.0_rec_pre.tar’\n",
      "\n",
      "ch_ppocr_server_v2. 100%[===================>] 467.48M  56.0MB/s    in 13s     \n",
      "\n",
      "2021-12-31 12:58:17 (34.9 MB/s) - ‘ch_ppocr_server_v2.0_rec_pre.tar’ saved [490184704/490184704]\n",
      "\n"
     ]
    }
   ],
   "source": [
    "%cd ~/PaddleOCR/\r\n",
    "# mobile模型\r\n",
    "# !wget https://paddleocr.bj.bcebos.com/dygraph_v2.0/ch/ch_ppocr_mobile_v2.0_rec_pre.tar\r\n",
    "# !tar -xf ch_ppocr_mobile_v2.0_rec_pre.tar\r\n",
    "\r\n",
    "# server模型\r\n",
    "!wget https://paddleocr.bj.bcebos.com/dygraph_v2.0/ch/ch_ppocr_server_v2.0_rec_pre.tar\r\n",
    "!tar -xf ch_ppocr_server_v2.0_rec_pre.tar"
   ]
  },
  {
   "cell_type": "markdown",
   "metadata": {
    "collapsed": false
   },
   "source": [
    "## 五、训练"
   ]
  },
  {
   "cell_type": "code",
   "execution_count": 9,
   "metadata": {
    "collapsed": false
   },
   "outputs": [],
   "source": [
    "%cd ~/PaddleOCR/\n",
    "# mobile模型\n",
    "# !python tools/train.py -c ./configs/rec/ch_ppocr_v2.0/rec_chinese_lite_train_v2.0.yml -o Global.checkpoints=./output/rec_chinese_lite_v2.0/latest\n",
    "\n",
    "# server模型\n",
    "!python tools/train.py -c ./configs/rec/ch_ppocr_v2.0/rec_chinese_common_train_v2.0.yml"
   ]
  },
  {
   "cell_type": "markdown",
   "metadata": {
    "collapsed": false
   },
   "source": [
    "### 1.选择合适的batch size\n",
    "![](https://ai-studio-static-online.cdn.bcebos.com/8f517cffd9a548118fe6266596118bcccb96941bcf974941a1905495243581e5)\n",
    "\n",
    "### 2.训练日志\n",
    "```\n",
    "[2021/12/30 23:26:54] root INFO: epoch: [68/500], iter: 9930, lr: 0.000962, loss: 5.635038, acc: 0.521482, norm_edit_dis: 0.745346, reader_cost: 0.01405 s, batch_cost: 0.26990 s, samples: 2560, ips: 948.50786\n",
    "[2021/12/30 23:27:11] root INFO: epoch: [68/500], iter: 9940, lr: 0.000962, loss: 5.653114, acc: 0.509764, norm_edit_dis: 0.740487, reader_cost: 0.01402 s, batch_cost: 0.26862 s, samples: 2560, ips: 953.03473\n",
    "[2021/12/30 23:27:26] root INFO: epoch: [68/500], iter: 9950, lr: 0.000962, loss: 5.411234, acc: 0.515623, norm_edit_dis: 0.748549, reader_cost: 0.00091 s, batch_cost: 0.26371 s, samples: 2560, ips: 970.76457\n",
    "[2021/12/30 23:27:40] root INFO: epoch: [68/500], iter: 9960, lr: 0.000962, loss: 5.588465, acc: 0.525389, norm_edit_dis: 0.755345, reader_cost: 0.00684 s, batch_cost: 0.25901 s, samples: 2560, ips: 988.38445\n",
    "[2021/12/30 23:27:48] root INFO: epoch: [68/500], iter: 9970, lr: 0.000961, loss: 5.789876, acc: 0.513670, norm_edit_dis: 0.740609, reader_cost: 0.00095 s, batch_cost: 0.15022 s, samples: 2560, ips: 1704.17763\n",
    "[2021/12/30 23:27:51] root INFO: epoch: [68/500], iter: 9974, lr: 0.000961, loss: 5.787237, acc: 0.511717, norm_edit_dis: 0.747102, reader_cost: 0.00018 s, batch_cost: 0.05935 s, samples: 1024, ips: 1725.41448\n",
    "[2021/12/30 23:27:51] root INFO: save model in ./output/rec_chinese_lite_v2.0/latest\n",
    "[2021/12/30 23:27:51] root INFO: Initialize indexs of datasets:['/home/aistudio/data/data62842/train.txt']\n",
    "[2021/12/30 23:28:21] root INFO: epoch: [69/500], iter: 9980, lr: 0.000961, loss: 5.801509, acc: 0.517576, norm_edit_dis: 0.749756, reader_cost: 1.10431 s, batch_cost: 1.37585 s, samples: 1536, ips: 111.64048\n",
    "[2021/12/30 23:28:40] root INFO: epoch: [69/500], iter: 9990, lr: 0.000961, loss: 5.548770, acc: 0.533201, norm_edit_dis: 0.762078, reader_cost: 0.00839 s, batch_cost: 0.32035 s, samples: 2560, ips: 799.11578\n",
    "[2021/12/30 23:28:56] root INFO: epoch: [69/500], iter: 10000, lr: 0.000961, loss: 5.449094, acc: 0.537107, norm_edit_dis: 0.762517, reader_cost: 0.00507 s, batch_cost: 0.25845 s, samples: 2560, ips: 990.51517\n",
    "eval model:: 100%|██████████████████████████████| 20/20 [00:15<00:00,  1.98it/s]\n",
    "[2021/12/30 23:29:12] root INFO: cur metric, acc: 0.4641999071600186, norm_edit_dis: 0.6980459628854201, fps: 4204.853978632389\n",
    "[2021/12/30 23:29:12] root INFO: best metric, acc: 0.48179990364001923, start_epoch: 12, norm_edit_dis: 0.7096561279006699, fps: 4618.199275059127, best_epoch: 46\n",
    "```\n",
    "\n",
    "### 3. visualdl可视化\n",
    "* 本地安装visualdl `pip install visualdl`\n",
    "* 下载日志至本地\n",
    "* 启动visualdl可视化  `visualdl --logdir ./`\n",
    "* 打开浏览器查看  ` http://localhost:8040/`\n",
    "\n",
    "![](https://ai-studio-static-online.cdn.bcebos.com/8d79a11fb3254ae7984fd03b5910ce9709db473af6c44b84a509599822b7cdc0)\n",
    "\n"
   ]
  },
  {
   "cell_type": "markdown",
   "metadata": {
    "collapsed": false
   },
   "source": [
    "## 六、模型评估"
   ]
  },
  {
   "cell_type": "code",
   "execution_count": 10,
   "metadata": {
    "collapsed": false
   },
   "outputs": [
    {
     "name": "stdout",
     "output_type": "stream",
     "text": [
      "/home/aistudio/PaddleOCR\n",
      "-----------  Configuration Arguments -----------\n",
      "backend: auto\n",
      "elastic_server: None\n",
      "force: False\n",
      "gpus: None\n",
      "heter_devices: \n",
      "heter_worker_num: None\n",
      "heter_workers: \n",
      "host: None\n",
      "http_port: None\n",
      "ips: 127.0.0.1\n",
      "job_id: None\n",
      "log_dir: log\n",
      "np: None\n",
      "nproc_per_node: None\n",
      "run_mode: None\n",
      "scale: 0\n",
      "server_num: None\n",
      "servers: \n",
      "training_script: tools/eval.py\n",
      "training_script_args: ['-c', 'configs/rec/ch_ppocr_v2.0/rec_chinese_common_train_v2.0.yml', '-o', 'Global.checkpoints=./output/rec_chinese_common_v2.0/best_accuracy.pdparams']\n",
      "worker_num: None\n",
      "workers: \n",
      "------------------------------------------------\n",
      "WARNING 2021-12-31 18:51:19,722 launch.py:423] Not found distinct arguments and compiled with cuda or xpu. Default use collective mode\n",
      "launch train in GPU mode!\n",
      "INFO 2021-12-31 18:51:19,725 launch_utils.py:528] Local start 1 processes. First process distributed environment info (Only For Debug): \n",
      "    +=======================================================================================+\n",
      "    |                        Distributed Envs                      Value                    |\n",
      "    +---------------------------------------------------------------------------------------+\n",
      "    |                       PADDLE_TRAINER_ID                        0                      |\n",
      "    |                 PADDLE_CURRENT_ENDPOINT                 127.0.0.1:46063               |\n",
      "    |                     PADDLE_TRAINERS_NUM                        1                      |\n",
      "    |                PADDLE_TRAINER_ENDPOINTS                 127.0.0.1:46063               |\n",
      "    |                     PADDLE_RANK_IN_NODE                        0                      |\n",
      "    |                 PADDLE_LOCAL_DEVICE_IDS                        0                      |\n",
      "    |                 PADDLE_WORLD_DEVICE_IDS                        0                      |\n",
      "    |                     FLAGS_selected_gpus                        0                      |\n",
      "    |             FLAGS_selected_accelerators                        0                      |\n",
      "    +=======================================================================================+\n",
      "\n",
      "INFO 2021-12-31 18:51:19,725 launch_utils.py:532] details abouts PADDLE_TRAINER_ENDPOINTS can be found in log/endpoints.log, and detail running logs maybe found in log/workerlog.0\n",
      "launch proc_id:16263 idx:0\n",
      "[2021/12/31 18:51:21] root INFO: Architecture : \n",
      "[2021/12/31 18:51:21] root INFO:     Backbone : \n",
      "[2021/12/31 18:51:21] root INFO:         layers : 34\n",
      "[2021/12/31 18:51:21] root INFO:         name : ResNet\n",
      "[2021/12/31 18:51:21] root INFO:     Head : \n",
      "[2021/12/31 18:51:21] root INFO:         fc_decay : 4e-05\n",
      "[2021/12/31 18:51:21] root INFO:         name : CTCHead\n",
      "[2021/12/31 18:51:21] root INFO:     Neck : \n",
      "[2021/12/31 18:51:21] root INFO:         encoder_type : rnn\n",
      "[2021/12/31 18:51:21] root INFO:         hidden_size : 256\n",
      "[2021/12/31 18:51:21] root INFO:         name : SequenceEncoder\n",
      "[2021/12/31 18:51:21] root INFO:     Transform : None\n",
      "[2021/12/31 18:51:21] root INFO:     algorithm : CRNN\n",
      "[2021/12/31 18:51:21] root INFO:     model_type : rec\n",
      "[2021/12/31 18:51:21] root INFO: Eval : \n",
      "[2021/12/31 18:51:21] root INFO:     dataset : \n",
      "[2021/12/31 18:51:21] root INFO:         data_dir : /home/aistudio/data/data62842/train_images\n",
      "[2021/12/31 18:51:21] root INFO:         label_file_list : ['/home/aistudio/data/data62842/val.txt']\n",
      "[2021/12/31 18:51:21] root INFO:         name : SimpleDataSet\n",
      "[2021/12/31 18:51:21] root INFO:         transforms : \n",
      "[2021/12/31 18:51:21] root INFO:             DecodeImage : \n",
      "[2021/12/31 18:51:21] root INFO:                 channel_first : False\n",
      "[2021/12/31 18:51:21] root INFO:                 img_mode : BGR\n",
      "[2021/12/31 18:51:21] root INFO:             CTCLabelEncode : None\n",
      "[2021/12/31 18:51:21] root INFO:             RecResizeImg : \n",
      "[2021/12/31 18:51:21] root INFO:                 image_shape : [3, 32, 320]\n",
      "[2021/12/31 18:51:21] root INFO:             KeepKeys : \n",
      "[2021/12/31 18:51:21] root INFO:                 keep_keys : ['image', 'label', 'length']\n",
      "[2021/12/31 18:51:21] root INFO:     loader : \n",
      "[2021/12/31 18:51:21] root INFO:         batch_size_per_card : 256\n",
      "[2021/12/31 18:51:21] root INFO:         drop_last : False\n",
      "[2021/12/31 18:51:21] root INFO:         num_workers : 8\n",
      "[2021/12/31 18:51:21] root INFO:         shuffle : False\n",
      "[2021/12/31 18:51:21] root INFO: Global : \n",
      "[2021/12/31 18:51:21] root INFO:     cal_metric_during_train : True\n",
      "[2021/12/31 18:51:21] root INFO:     character_dict_path : ppocr/utils/ppocr_keys_v1.txt\n",
      "[2021/12/31 18:51:21] root INFO:     checkpoints : ./output/rec_chinese_common_v2.0/best_accuracy.pdparams\n",
      "[2021/12/31 18:51:21] root INFO:     debug : False\n",
      "[2021/12/31 18:51:21] root INFO:     distributed : False\n",
      "[2021/12/31 18:51:21] root INFO:     epoch_num : 500\n",
      "[2021/12/31 18:51:21] root INFO:     eval_batch_step : [0, 2000]\n",
      "[2021/12/31 18:51:21] root INFO:     infer_img : doc/imgs_words/ch/word_1.jpg\n",
      "[2021/12/31 18:51:21] root INFO:     infer_mode : False\n",
      "[2021/12/31 18:51:21] root INFO:     log_smooth_window : 20\n",
      "[2021/12/31 18:51:21] root INFO:     max_text_length : 25\n",
      "[2021/12/31 18:51:21] root INFO:     pretrained_model : ./ch_ppocr_server_v2.0_rec_pre/best_accuracy\n",
      "[2021/12/31 18:51:21] root INFO:     print_batch_step : 10\n",
      "[2021/12/31 18:51:21] root INFO:     save_epoch_step : 3\n",
      "[2021/12/31 18:51:21] root INFO:     save_inference_dir : None\n",
      "[2021/12/31 18:51:21] root INFO:     save_model_dir : ./output/rec_chinese_common_v2.0\n",
      "[2021/12/31 18:51:21] root INFO:     save_res_path : ./output/rec/predicts_chinese_common_v2.0.txt\n",
      "[2021/12/31 18:51:21] root INFO:     use_gpu : True\n",
      "[2021/12/31 18:51:21] root INFO:     use_space_char : True\n",
      "[2021/12/31 18:51:21] root INFO:     use_visualdl : False\n",
      "[2021/12/31 18:51:21] root INFO: Loss : \n",
      "[2021/12/31 18:51:21] root INFO:     name : CTCLoss\n",
      "[2021/12/31 18:51:21] root INFO: Metric : \n",
      "[2021/12/31 18:51:21] root INFO:     main_indicator : acc\n",
      "[2021/12/31 18:51:21] root INFO:     name : RecMetric\n",
      "[2021/12/31 18:51:21] root INFO: Optimizer : \n",
      "[2021/12/31 18:51:21] root INFO:     beta1 : 0.9\n",
      "[2021/12/31 18:51:21] root INFO:     beta2 : 0.999\n",
      "[2021/12/31 18:51:21] root INFO:     lr : \n",
      "[2021/12/31 18:51:21] root INFO:         learning_rate : 0.001\n",
      "[2021/12/31 18:51:21] root INFO:         name : Cosine\n",
      "[2021/12/31 18:51:21] root INFO:         warmup_epoch : 5\n",
      "[2021/12/31 18:51:21] root INFO:     name : Adam\n",
      "[2021/12/31 18:51:21] root INFO:     regularizer : \n",
      "[2021/12/31 18:51:21] root INFO:         factor : 4e-05\n",
      "[2021/12/31 18:51:21] root INFO:         name : L2\n",
      "[2021/12/31 18:51:21] root INFO: PostProcess : \n",
      "[2021/12/31 18:51:21] root INFO:     name : CTCLabelDecode\n",
      "[2021/12/31 18:51:21] root INFO: Train : \n",
      "[2021/12/31 18:51:21] root INFO:     dataset : \n",
      "[2021/12/31 18:51:21] root INFO:         data_dir : /home/aistudio/data/data62842/train_images\n",
      "[2021/12/31 18:51:21] root INFO:         label_file_list : ['/home/aistudio/data/data62842/train.txt']\n",
      "[2021/12/31 18:51:21] root INFO:         name : SimpleDataSet\n",
      "[2021/12/31 18:51:21] root INFO:         transforms : \n",
      "[2021/12/31 18:51:21] root INFO:             DecodeImage : \n",
      "[2021/12/31 18:51:21] root INFO:                 channel_first : False\n",
      "[2021/12/31 18:51:21] root INFO:                 img_mode : BGR\n",
      "[2021/12/31 18:51:21] root INFO:             RecAug : None\n",
      "[2021/12/31 18:51:21] root INFO:             CTCLabelEncode : None\n",
      "[2021/12/31 18:51:21] root INFO:             RecResizeImg : \n",
      "[2021/12/31 18:51:21] root INFO:                 image_shape : [3, 32, 320]\n",
      "[2021/12/31 18:51:21] root INFO:             KeepKeys : \n",
      "[2021/12/31 18:51:21] root INFO:                 keep_keys : ['image', 'label', 'length']\n",
      "[2021/12/31 18:51:21] root INFO:     loader : \n",
      "[2021/12/31 18:51:21] root INFO:         batch_size_per_card : 256\n",
      "[2021/12/31 18:51:21] root INFO:         drop_last : True\n",
      "[2021/12/31 18:51:21] root INFO:         num_workers : 8\n",
      "[2021/12/31 18:51:21] root INFO:         shuffle : True\n",
      "[2021/12/31 18:51:21] root INFO: profiler_options : None\n",
      "[2021/12/31 18:51:21] root INFO: train with paddle 2.2.1 and device CUDAPlace(0)\n",
      "[2021/12/31 18:51:21] root INFO: Initialize indexs of datasets:['/home/aistudio/data/data62842/val.txt']\n",
      "W1231 18:51:21.482865 16263 device_context.cc:447] Please NOTE: device: 0, GPU Compute Capability: 7.0, Driver API Version: 10.1, Runtime API Version: 10.1\n",
      "W1231 18:51:21.487445 16263 device_context.cc:465] device: 0, cuDNN Version: 7.6.\n",
      "[2021/12/31 18:51:26] root INFO: resume from ./output/rec_chinese_common_v2.0/best_accuracy\n",
      "[2021/12/31 18:51:26] root INFO: metric in ckpt ***************\n",
      "[2021/12/31 18:51:26] root INFO: acc:0.6035998792800241\n",
      "[2021/12/31 18:51:26] root INFO: norm_edit_dis:0.8053270782756357\n",
      "[2021/12/31 18:51:26] root INFO: fps:438.9587163608945\n",
      "[2021/12/31 18:51:26] root INFO: best_epoch:23\n",
      "[2021/12/31 18:51:26] root INFO: start_epoch:24\n",
      "\n",
      "eval model::   0%|          | 0/20 [00:00<?, ?it/s]\n",
      "eval model::   5%|▌         | 1/20 [00:02<00:54,  2.88s/it]\n",
      "eval model::  10%|█         | 2/20 [00:04<00:43,  2.42s/it]\n",
      "eval model::  15%|█▌        | 3/20 [00:05<00:35,  2.10s/it]\n",
      "eval model::  20%|██        | 4/20 [00:06<00:29,  1.87s/it]\n",
      "eval model::  25%|██▌       | 5/20 [00:08<00:25,  1.71s/it]\n",
      "eval model::  30%|███       | 6/20 [00:09<00:22,  1.60s/it]\n",
      "eval model::  35%|███▌      | 7/20 [00:10<00:19,  1.53s/it]\n",
      "eval model::  40%|████      | 8/20 [00:12<00:17,  1.48s/it]\n",
      "eval model::  45%|████▌     | 9/20 [00:13<00:15,  1.44s/it]\n",
      "eval model::  50%|█████     | 10/20 [00:15<00:14,  1.42s/it]\n",
      "eval model::  55%|█████▌    | 11/20 [00:16<00:12,  1.40s/it]\n",
      "eval model::  60%|██████    | 12/20 [00:17<00:11,  1.39s/it]\n",
      "eval model::  65%|██████▌   | 13/20 [00:19<00:09,  1.38s/it]\n",
      "eval model::  70%|███████   | 14/20 [00:20<00:08,  1.38s/it]\n",
      "eval model::  75%|███████▌  | 15/20 [00:21<00:06,  1.38s/it]\n",
      "eval model::  80%|████████  | 16/20 [00:23<00:05,  1.38s/it]\n",
      "eval model::  85%|████████▌ | 17/20 [00:24<00:04,  1.38s/it]\n",
      "eval model::  90%|█████████ | 18/20 [00:25<00:02,  1.37s/it]\n",
      "eval model::  95%|█████████▌| 19/20 [00:27<00:01,  1.37s/it]\n",
      "eval model:: 100%|██████████| 20/20 [00:28<00:00,  1.17s/it]\n",
      "[2021/12/31 18:51:54] root INFO: metric eval ***************\n",
      "[2021/12/31 18:51:54] root INFO: acc:0.6035998792800241\n",
      "[2021/12/31 18:51:54] root INFO: norm_edit_dis:0.8053270782756357\n",
      "[2021/12/31 18:51:54] root INFO: fps:439.3796693669832\n",
      "INFO 2021-12-31 18:51:55,788 launch.py:311] Local processes completed.\n"
     ]
    }
   ],
   "source": [
    "# GPU 评估， Global.checkpoints 为待测权重\r\n",
    "%cd ~/PaddleOCR/\r\n",
    "# mobile模型\r\n",
    "# !python  -m paddle.distributed.launch tools/eval.py -c configs/rec/ch_ppocr_v2.0/rec_chinese_lite_train_v2.0.yml \\\r\n",
    "#     -o Global.checkpoints=./output/rec_chinese_lite_v2.0/latest\r\n",
    "\r\n",
    "# server模型\r\n",
    "!python  -m paddle.distributed.launch tools/eval.py -c configs/rec/ch_ppocr_v2.0/rec_chinese_common_train_v2.0.yml \\\r\n",
    "    -o Global.checkpoints=./output/rec_chinese_common_v2.0/best_accuracy.pdparams\r\n"
   ]
  },
  {
   "cell_type": "markdown",
   "metadata": {
    "collapsed": false
   },
   "source": [
    "## 七、结果预测\n",
    "预测脚本使用预测训练好的模型，并将结果保存成txt格式，可以直接送到比赛提交入口测评，文件默认保存在output/rec/predicts_chinese_lite_v2.0.txt\n",
    "### 1.提交内容与格式\n",
    "本次比赛要求参赛选手必须提交使用深度学习平台飞桨（PaddlePaddle）训练的模型。参赛者要求以.txt 文本格式提交结果，其中每一行是图片名称和文字预测的结果，中间以 “\\t” 作为分割符，示例如下：\n",
    "\n",
    "\n",
    "| new_name  | value |\n",
    "| -------- | -------- | \n",
    "| 0.jpg     | 文本0     |\n",
    "\n",
    "### 2. infer_rec.py修改\n",
    "```\n",
    " with open(save_res_path, \"w\") as fout:\n",
    " \t#添加列头\n",
    " \tfout.write('new_name' + \"\\t\" + 'value' +'\\n')\n",
    "        for file in get_image_file_list(config['Global']['infer_img']):\n",
    "            logger.info(\"infer_img: {}\".format(file))\n",
    "            with open(file, 'rb') as f:\n",
    "                img = f.read()\n",
    "                data = {'image': img}\n",
    "            batch = transform(data, ops)\n",
    "            if config['Architecture']['algorithm'] == \"SRN\":\n",
    "                encoder_word_pos_list = np.expand_dims(batch[1], axis=0)\n",
    "                gsrm_word_pos_list = np.expand_dims(batch[2], axis=0)\n",
    "                gsrm_slf_attn_bias1_list = np.expand_dims(batch[3], axis=0)\n",
    "                gsrm_slf_attn_bias2_list = np.expand_dims(batch[4], axis=0)\n",
    "\n",
    "                others = [\n",
    "                    paddle.to_tensor(encoder_word_pos_list),\n",
    "                    paddle.to_tensor(gsrm_word_pos_list),\n",
    "                    paddle.to_tensor(gsrm_slf_attn_bias1_list),\n",
    "                    paddle.to_tensor(gsrm_slf_attn_bias2_list)\n",
    "                ]\n",
    "            if config['Architecture']['algorithm'] == \"SAR\":\n",
    "                valid_ratio = np.expand_dims(batch[-1], axis=0)\n",
    "                img_metas = [paddle.to_tensor(valid_ratio)]\n",
    "\n",
    "            images = np.expand_dims(batch[0], axis=0)\n",
    "            images = paddle.to_tensor(images)\n",
    "            if config['Architecture']['algorithm'] == \"SRN\":\n",
    "                preds = model(images, others)\n",
    "            elif config['Architecture']['algorithm'] == \"SAR\":\n",
    "                preds = model(images, img_metas)\n",
    "            else:\n",
    "                preds = model(images)\n",
    "            post_result = post_process_class(preds)\n",
    "            info = None\n",
    "            if isinstance(post_result, dict):\n",
    "                rec_info = dict()\n",
    "                for key in post_result:\n",
    "                    if len(post_result[key][0]) >= 2:\n",
    "                        rec_info[key] = {\n",
    "                            \"label\": post_result[key][0][0],\n",
    "                            \"score\": float(post_result[key][0][1]),\n",
    "                        }\n",
    "                info = json.dumps(rec_info)\n",
    "            else:\n",
    "                if len(post_result[0]) >= 2:\n",
    "                    info = post_result[0][0] + \"\\t\" + str(post_result[0][1])\n",
    "\n",
    "            if info is not None:\n",
    "                logger.info(\"\\t result: {}\".format(info))\n",
    "                # fout.write(file + \"\\t\" + info)\n",
    "                # 格式化输出\n",
    "                fout.write(file + \"\\t\" + post_result[0][0] +'\\n')\n",
    "    logger.info(\"success!\")\n",
    "```\n"
   ]
  },
  {
   "cell_type": "code",
   "execution_count": 11,
   "metadata": {
    "collapsed": false
   },
   "outputs": [],
   "source": [
    "%cd ~/PaddleOCR/\r\n",
    "# mobile模型\r\n",
    "# !python tools/infer_rec.py -c configs/rec/ch_ppocr_v2.0/rec_chinese_lite_train_v2.0.yml \\\r\n",
    "#     -o Global.infer_img=\"/home/aistudio/data/data62843/test_images\" \\\r\n",
    "#     Global.pretrained_model=\"./output/rec_chinese_lite_v2.0/best_accuracy\"\r\n",
    "\r\n",
    "# server模型\r\n",
    "!python tools/infer_rec.py -c configs/rec/ch_ppocr_v2.0/rec_chinese_common_train_v2.0.yml \\\r\n",
    "    -o Global.infer_img=\"/home/aistudio/data/data62843/test_images\" \\\r\n",
    "    Global.checkpoints=./output/rec_chinese_common_v2.0/best_accuracy"
   ]
  },
  {
   "cell_type": "markdown",
   "metadata": {
    "collapsed": false
   },
   "source": [
    "预测日志\n",
    "```\n",
    "[2021/12/30 23:53:50] root INFO: \t result: 萧记果点\t0.66611135\n",
    "[2021/12/30 23:53:50] root INFO: infer_img: /home/aistudio/data/data62843/test_images/9995.jpg\n",
    "[2021/12/30 23:53:50] root INFO: \t result: 福\t0.1693737\n",
    "[2021/12/30 23:53:50] root INFO: infer_img: /home/aistudio/data/data62843/test_images/9996.jpg\n",
    "[2021/12/30 23:53:50] root INFO: \t result: 279\t0.97771764\n",
    "[2021/12/30 23:53:50] root INFO: infer_img: /home/aistudio/data/data62843/test_images/9997.jpg\n",
    "[2021/12/30 23:53:50] root INFO: \t result: 公牛装饰开关\t0.9916236\n",
    "[2021/12/30 23:53:50] root INFO: infer_img: /home/aistudio/data/data62843/test_images/9998.jpg\n",
    "[2021/12/30 23:53:50] root INFO: \t result: 专酒\t0.118371546\n",
    "[2021/12/30 23:53:50] root INFO: infer_img: /home/aistudio/data/data62843/test_images/9999.jpg\n",
    "[2021/12/30 23:53:50] root INFO: \t result: 东之家\t0.871051\n",
    "[2021/12/30 23:53:50] root INFO: success!\n",
    "...\n",
    "...\n",
    "```"
   ]
  },
  {
   "cell_type": "markdown",
   "metadata": {
    "collapsed": false
   },
   "source": [
    "## 八、基于预测引擎的预测\n",
    "### 1.模型大小限制\n",
    "约束性条件1：模型总大小不超过10MB（以.pdmodel和.pdiparams文件非压缩状态磁盘占用空间之和为准）；\n",
    "\n",
    "### 2.解决办法\n",
    "训练过程中保存的模型是checkpoints模型，保存的只有模型的参数，多用于恢复训练等。实际上，此处的约束条件限制的是inference 模型的大小。inference 模型一般是模型训练，把模型结构和模型参数保存在文件中的固化模型，多用于预测部署场景。与checkpoints模型相比，inference 模型会额外保存模型的结构信息，在预测部署、加速推理上性能优越，灵活方便，适合于实际系统集成，模型大小也会小一些。"
   ]
  },
  {
   "cell_type": "code",
   "execution_count": null,
   "metadata": {
    "collapsed": false
   },
   "outputs": [
    {
     "name": "stdout",
     "output_type": "stream",
     "text": [
      "/home/aistudio/PaddleOCR\n",
      "W1230 23:54:48.747483 13346 device_context.cc:447] Please NOTE: device: 0, GPU Compute Capability: 7.0, Driver API Version: 11.0, Runtime API Version: 10.1\n",
      "W1230 23:54:48.752360 13346 device_context.cc:465] device: 0, cuDNN Version: 7.6.\n",
      "[2021/12/30 23:54:52] root INFO: load pretrain successful from ./output/rec_chinese_lite_v2.0/best_accuracy\n",
      "[2021/12/30 23:54:54] root INFO: inference model is saved to ./inference/rec_inference/inference\n"
     ]
    }
   ],
   "source": [
    "# 静态模型导出\r\n",
    "%cd ~/PaddleOCR/\r\n",
    "# mobile模型\r\n",
    "# !python tools/export_model.py -c configs/rec/ch_ppocr_v2.0/rec_chinese_lite_train_v2.0.yml -o Global.pretrained_model=./output/rec_chinese_lite_v2.0/best_accuracy.pdparams  Global.save_inference_dir=./inference/rec_inference/\r\n",
    "\r\n",
    "# server模型\r\n",
    "!python tools/export_model.py -c configs/rec/ch_ppocr_v2.0/rec_chinese_common_v2.0.yml -o Global.pretrained_model=./output/rec_chinese_common_train_v2.0/best_accuracy.pdparams  Global.save_inference_dir=./inference/rec_inference/\r\n"
   ]
  },
  {
   "cell_type": "code",
   "execution_count": null,
   "metadata": {
    "collapsed": false
   },
   "outputs": [
    {
     "name": "stdout",
     "output_type": "stream",
     "text": [
      "/home/aistudio/PaddleOCR\n",
      "5.2M\t./inference/rec_inference/\n"
     ]
    }
   ],
   "source": [
    "%cd ~/PaddleOCR/\r\n",
    "!du -sh ./inference/rec_inference/"
   ]
  },
  {
   "cell_type": "markdown",
   "metadata": {
    "collapsed": false
   },
   "source": [
    "* 可以看到，当前训练使用的CRNN算法导出inference后，仅有5.2M。\n",
    "* 导出的inference模型也可以用来预测，预测逻辑如下代码所示。"
   ]
  },
  {
   "cell_type": "code",
   "execution_count": null,
   "metadata": {
    "collapsed": false
   },
   "outputs": [],
   "source": [
    "# 使用导出静态模型预测\r\n",
    "%cd ~/PaddleOCR/\r\n",
    "!python3.7 tools/infer/predict_rec.py  --rec_model_dir=./inference/rec_inference/  --image_dir=\"/home/aistudio/data/A榜测试数据集/TestAImages\""
   ]
  },
  {
   "cell_type": "markdown",
   "metadata": {
    "collapsed": false
   },
   "source": [
    "预测日志\n",
    "```\n",
    "[2021/12/30 13:20:08] root INFO: Predicts of /home/aistudio/data/A榜测试数据集/TestAImages/TestA_000001.jpg:('MJ', 0.2357887)\n",
    "[2021/12/30 13:20:08] root INFO: Predicts of /home/aistudio/data/A榜测试数据集/TestAImages/TestA_000002.jpg:('中门', 0.7167614)\n",
    "[2021/12/30 13:20:08] root INFO: Predicts of /home/aistudio/data/A榜测试数据集/TestAImages/TestA_000003.jpg:('黄焖鸡米饭', 0.7325407)\n",
    "[2021/12/30 13:20:08] root INFO: Predicts of /home/aistudio/data/A榜测试数据集/TestAImages/TestA_000004.jpg:('加行', 0.06699998)\n",
    "[2021/12/30 13:20:08] root INFO: Predicts of /home/aistudio/data/A榜测试数据集/TestAImages/TestA_000005.jpg:('学商烤面航', 0.40579563)\n",
    "[2021/12/30 13:20:08] root INFO: Predicts of /home/aistudio/data/A榜测试数据集/TestAImages/TestA_000006.jpg:('绿村装机 滋光彩机 CP口出国', 0.38243735)\n",
    "[2021/12/30 13:20:08] root INFO: Predicts of /home/aistudio/data/A榜测试数据集/TestAImages/TestA_000007.jpg:('有酸锁 四好吃', 0.38957664)\n",
    "[2021/12/30 13:20:08] root INFO: Predicts of /home/aistudio/data/A榜测试数据集/TestAImages/TestA_000008.jpg:('婚汽中海', 0.36037388)\n",
    "[2021/12/30 13:20:08] root INFO: Predicts of /home/aistudio/data/A榜测试数据集/TestAImages/TestA_000009.jpg:('L', 0.25453746)\n",
    "[2021/12/30 13:20:08] root INFO: Predicts of /home/aistudio/data/A榜测试数据集/TestAImages/TestA_000010.jpg:('清女装', 0.79736567)\n",
    "[2021/12/30 13:20:08] root INFO: Predicts of /home/aistudio/data/A榜测试数据集/TestAImages/TestA_000011.jpg:('幼小数学视食', 0.50577885)\n",
    "...\n",
    "...\n",
    "```"
   ]
  },
  {
   "cell_type": "markdown",
   "metadata": {
    "collapsed": false
   },
   "source": [
    "## 九、提交\n",
    "预测结果保存到配置文件指定的 output/rec/predicts_chinese_lite_v2.0.txt文件，可直接提交即可。"
   ]
  },
  {
   "cell_type": "code",
   "execution_count": 12,
   "metadata": {
    "collapsed": false
   },
   "outputs": [
    {
     "name": "stdout",
     "output_type": "stream",
     "text": [
      "/home/aistudio\n",
      "new_name\tvalue\r\n",
      "0.jpg\t邦佳洗衣\r\n",
      "1.jpg\t不锈钢配件大全\r\n",
      "10.jpg\t诊疗科目：中医科\r\n",
      "100.jpg\t210\r\n",
      "1000.jpg\t电线电缆等\r\n",
      "1001.jpg\t20\r\n",
      "1002.jpg\t进口滤纸　专业制造\r\n",
      "1003.jpg\t1506540\r\n",
      "1004.jpg\tｉＷｏＷ\r\n"
     ]
    }
   ],
   "source": [
    "%cd ~\r\n",
    "!head PaddleOCR/output/rec/predicts_chinese_common_v2.0.txt"
   ]
  },
  {
   "cell_type": "markdown",
   "metadata": {
    "collapsed": false
   },
   "source": [
    "### 1.mobile模型\n",
    "\n",
    "![](https://ai-studio-static-online.cdn.bcebos.com/50ac7c5eb9144e68bdae263748fcdec3941db064aa4541d1b9dc0892b3b16a7b)\n",
    "\n",
    "### 2.server模型\n",
    "\n",
    "![](https://ai-studio-static-online.cdn.bcebos.com/a8ddcf383ccf4577900c9b03726f151895f1c3cbd514478dbf7d5541d854f416)\n",
    "\n",
    "\n",
    "大家可以再处理处理，优化优化，多跑几轮。"
   ]
  }
 ],
 "metadata": {
  "kernelspec": {
   "display_name": "Python 3",
   "language": "python",
   "name": "py35-paddle1.2.0"
  },
  "language_info": {
   "codemirror_mode": {
    "name": "ipython",
    "version": 3
   },
   "file_extension": ".py",
   "mimetype": "text/x-python",
   "name": "python",
   "nbconvert_exporter": "python",
   "pygments_lexer": "ipython3",
   "version": "3.7.4"
  }
 },
 "nbformat": 4,
 "nbformat_minor": 1
}
